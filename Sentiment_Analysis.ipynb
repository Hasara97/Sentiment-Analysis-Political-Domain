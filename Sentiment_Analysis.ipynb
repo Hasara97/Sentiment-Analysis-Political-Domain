{
  "nbformat": 4,
  "nbformat_minor": 0,
  "metadata": {
    "colab": {
      "name": "Sentiment Analysis.ipynb",
      "provenance": [],
      "collapsed_sections": []
    },
    "kernelspec": {
      "name": "python3",
      "display_name": "Python 3"
    },
    "language_info": {
      "name": "python"
    }
  },
  "cells": [
    {
      "cell_type": "code",
      "metadata": {
        "id": "vTl1yF3G_2Sl"
      },
      "source": [
        "import nltk\n",
        "import pandas as pd\n",
        "import re\n",
        "import string"
      ],
      "execution_count": 502,
      "outputs": []
    },
    {
      "cell_type": "code",
      "metadata": {
        "colab": {
          "base_uri": "https://localhost:8080/"
        },
        "id": "yv0A_UsDchqV",
        "outputId": "5e85faf5-eba4-4a34-b779-ac02f25e9eb3"
      },
      "source": [
        "from google.colab import drive\n",
        "drive.mount(\"/content/gdrive\")"
      ],
      "execution_count": 503,
      "outputs": [
        {
          "output_type": "stream",
          "text": [
            "Drive already mounted at /content/gdrive; to attempt to forcibly remount, call drive.mount(\"/content/gdrive\", force_remount=True).\n"
          ],
          "name": "stdout"
        }
      ]
    },
    {
      "cell_type": "code",
      "metadata": {
        "colab": {
          "base_uri": "https://localhost:8080/",
          "height": 204
        },
        "id": "N_by9dPWcRj9",
        "outputId": "d5e128fd-2ba9-4195-eb96-40fe0b63801c"
      },
      "source": [
        "comments = pd.read_csv(\"/content/gdrive/My Drive/Colab Notebooks/data/comments.csv\")\n",
        "comments.head()"
      ],
      "execution_count": 504,
      "outputs": [
        {
          "output_type": "execute_result",
          "data": {
            "text/html": [
              "<div>\n",
              "<style scoped>\n",
              "    .dataframe tbody tr th:only-of-type {\n",
              "        vertical-align: middle;\n",
              "    }\n",
              "\n",
              "    .dataframe tbody tr th {\n",
              "        vertical-align: top;\n",
              "    }\n",
              "\n",
              "    .dataframe thead th {\n",
              "        text-align: right;\n",
              "    }\n",
              "</style>\n",
              "<table border=\"1\" class=\"dataframe\">\n",
              "  <thead>\n",
              "    <tr style=\"text-align: right;\">\n",
              "      <th></th>\n",
              "      <th>Possitve comments</th>\n",
              "      <th>Negative comments</th>\n",
              "    </tr>\n",
              "  </thead>\n",
              "  <tbody>\n",
              "    <tr>\n",
              "      <th>0</th>\n",
              "      <td>Janatrha Vimmukthi Peramuna nayakathwaya dena ...</td>\n",
              "      <td>Ane manda meyda president paw ara miharak 69</td>\n",
              "    </tr>\n",
              "    <tr>\n",
              "      <th>1</th>\n",
              "      <td>Rata jayagrhanaya kara regena yamu</td>\n",
              "      <td>Akath iwarai ahenam</td>\n",
              "    </tr>\n",
              "    <tr>\n",
              "      <th>2</th>\n",
              "      <td>Wedak piliwelakata karanna puluwan pratipattiy...</td>\n",
              "      <td>Upades dunne maala hora wenna one</td>\n",
              "    </tr>\n",
              "    <tr>\n",
              "      <th>3</th>\n",
              "      <td>issarahata ikamanatama yanna</td>\n",
              "      <td>Katin withrai</td>\n",
              "    </tr>\n",
              "    <tr>\n",
              "      <th>4</th>\n",
              "      <td>niduk neerogi suvaya labeva</td>\n",
              "      <td>Ma kage shapayakd,pissek raja unath ekai rajek...</td>\n",
              "    </tr>\n",
              "  </tbody>\n",
              "</table>\n",
              "</div>"
            ],
            "text/plain": [
              "                                   Possitve comments                                  Negative comments\n",
              "0  Janatrha Vimmukthi Peramuna nayakathwaya dena ...       Ane manda meyda president paw ara miharak 69\n",
              "1                 Rata jayagrhanaya kara regena yamu                                Akath iwarai ahenam\n",
              "2  Wedak piliwelakata karanna puluwan pratipattiy...                  Upades dunne maala hora wenna one\n",
              "3                       issarahata ikamanatama yanna                                      Katin withrai\n",
              "4                        niduk neerogi suvaya labeva  Ma kage shapayakd,pissek raja unath ekai rajek..."
            ]
          },
          "metadata": {
            "tags": []
          },
          "execution_count": 504
        }
      ]
    },
    {
      "cell_type": "code",
      "metadata": {
        "id": "rkphKRvIcfp3"
      },
      "source": [
        "#assigning the positive and negative columns seperately\n",
        "positive_comments = comments['Possitve comments'].astype(str)\n",
        "negative_comments = comments['Negative comments'].astype(str)"
      ],
      "execution_count": 505,
      "outputs": []
    },
    {
      "cell_type": "code",
      "metadata": {
        "colab": {
          "base_uri": "https://localhost:8080/"
        },
        "id": "HzNnqDeldbl1",
        "outputId": "cfe215e3-374b-429d-e9fc-431512fd51f4"
      },
      "source": [
        "positive_comments.head()"
      ],
      "execution_count": 506,
      "outputs": [
        {
          "output_type": "execute_result",
          "data": {
            "text/plain": [
              "0    Janatrha Vimmukthi Peramuna nayakathwaya dena ...\n",
              "1                   Rata jayagrhanaya kara regena yamu\n",
              "2    Wedak piliwelakata karanna puluwan pratipattiy...\n",
              "3                         issarahata ikamanatama yanna\n",
              "4                          niduk neerogi suvaya labeva\n",
              "Name: Possitve comments, dtype: object"
            ]
          },
          "metadata": {
            "tags": []
          },
          "execution_count": 506
        }
      ]
    },
    {
      "cell_type": "code",
      "metadata": {
        "colab": {
          "base_uri": "https://localhost:8080/"
        },
        "id": "q27pfSztdt-u",
        "outputId": "fbb61239-1981-40bd-e1ad-a0c39853ae2a"
      },
      "source": [
        "negative_comments.head()"
      ],
      "execution_count": 507,
      "outputs": [
        {
          "output_type": "execute_result",
          "data": {
            "text/plain": [
              "0         Ane manda meyda president paw ara miharak 69\n",
              "1                                  Akath iwarai ahenam\n",
              "2                    Upades dunne maala hora wenna one\n",
              "3                                        Katin withrai\n",
              "4    Ma kage shapayakd,pissek raja unath ekai rajek...\n",
              "Name: Negative comments, dtype: object"
            ]
          },
          "metadata": {
            "tags": []
          },
          "execution_count": 507
        }
      ]
    },
    {
      "cell_type": "markdown",
      "metadata": {
        "id": "5cYiL7uId2FP"
      },
      "source": [
        "Preprocess data"
      ]
    },
    {
      "cell_type": "markdown",
      "metadata": {
        "id": "LIYlIrrWrvHj"
      },
      "source": [
        "Clean the corpus"
      ]
    },
    {
      "cell_type": "code",
      "metadata": {
        "id": "MVlqTrB5dzhq"
      },
      "source": [
        "def clean_comments(comment):\n",
        "  comment = comment.lower() #Converts all characters to lowercase\n",
        "  cleaned_comment = re.sub(r\",[;.@#!?$&]+\\*\",\" \", comment)\n",
        "  return cleaned_comment"
      ],
      "execution_count": 508,
      "outputs": []
    },
    {
      "cell_type": "code",
      "metadata": {
        "colab": {
          "base_uri": "https://localhost:8080/"
        },
        "id": "IJcItlHGsy4Z",
        "outputId": "b22291ce-585f-4c32-d1a0-7cf042df66a2"
      },
      "source": [
        "cleaned_positive_comments = []\n",
        "for i in positive_comments:\n",
        "  cleaned_positive_comments.append(clean_comments(i))\n",
        "\n",
        "print(cleaned_positive_comments[:5])"
      ],
      "execution_count": 509,
      "outputs": [
        {
          "output_type": "stream",
          "text": [
            "['janatrha vimmukthi peramuna nayakathwaya dena jathika janabalawegaya samaga siyalu denama ekathu wee', 'rata jayagrhanaya kara regena yamu', 'wedak piliwelakata karanna puluwan pratipattiyak tiyana minissu tama obala', 'issarahata ikamanatama yanna', 'niduk neerogi suvaya labeva']\n"
          ],
          "name": "stdout"
        }
      ]
    },
    {
      "cell_type": "code",
      "metadata": {
        "colab": {
          "base_uri": "https://localhost:8080/"
        },
        "id": "0C5OYI95v16r",
        "outputId": "83a019ea-4277-4292-efbc-8a564363a5d9"
      },
      "source": [
        "cleaned_negative_comments = []\n",
        "for i in negative_comments:\n",
        "  cleaned_negative_comments.append(clean_comments(i))\n",
        "\n",
        "print(cleaned_negative_comments[:5])"
      ],
      "execution_count": 510,
      "outputs": [
        {
          "output_type": "stream",
          "text": [
            "['ane manda meyda president paw ara miharak 69', 'akath iwarai ahenam', 'upades dunne maala hora wenna one', 'katin withrai', 'ma kage shapayakd,pissek raja unath ekai rajek pissek unath ekaii']\n"
          ],
          "name": "stdout"
        }
      ]
    },
    {
      "cell_type": "markdown",
      "metadata": {
        "id": "pAPlWSCAwasA"
      },
      "source": [
        "Tokenize the corpus"
      ]
    },
    {
      "cell_type": "code",
      "metadata": {
        "id": "8b1d1c81"
      },
      "source": [
        "from nltk.tokenize import RegexpTokenizer\n",
        "from nltk.util import ngrams\n",
        "\n",
        "\n",
        "def tokenize(comments):\n",
        "  temp = []\n",
        "  tokenizer = RegexpTokenizer(\"[\\w']+\")\n",
        "  for i in comments:\n",
        "    temp.append(tokenizer.tokenize(i))\n",
        "  return temp\n"
      ],
      "execution_count": 511,
      "outputs": []
    },
    {
      "cell_type": "code",
      "metadata": {
        "colab": {
          "base_uri": "https://localhost:8080/"
        },
        "id": "JD43K6TTwYrL",
        "outputId": "8240f2ea-54ba-40b3-dff6-6d01353ad4aa"
      },
      "source": [
        "tokenized_pos = tokenize(cleaned_positive_comments)\n",
        "print(tokenized_pos)"
      ],
      "execution_count": 512,
      "outputs": [
        {
          "output_type": "stream",
          "text": [
            "[['janatrha', 'vimmukthi', 'peramuna', 'nayakathwaya', 'dena', 'jathika', 'janabalawegaya', 'samaga', 'siyalu', 'denama', 'ekathu', 'wee'], ['rata', 'jayagrhanaya', 'kara', 'regena', 'yamu'], ['wedak', 'piliwelakata', 'karanna', 'puluwan', 'pratipattiyak', 'tiyana', 'minissu', 'tama', 'obala'], ['issarahata', 'ikamanatama', 'yanna'], ['niduk', 'neerogi', 'suvaya', 'labeva'], ['jvp', 'sakthiya', 'eka', 'loku', 'pawlak'], ['ape', 'rate', 'sundara', 'ratak'], ['oya', 'hodai', 'aththa', 'kiyanne'], ['obata', 'theruwan', 'saranay'], ['jayawewa', '2024', 'janapathi', 'karamu'], ['kiyana', 'de', 'sahathika', 'eththaa'], ['oba', 'tamai', 'aniwaryenma', 'meratata', 'janaadhipathi', 'wiya', 'yutte'], ['aththa', 'kathawa'], ['hariyata', 'hari'], ['supiri'], ['ape', 'sahota', 'jayaweva'], ['jaya', 'wewa', 'theruwan', 'saranai'], ['jayawewa', 'gampahen', '1ta', 'enawa', 'oba', 'thuma'], ['wellassata', 'wadak', 'karapu', 'ekama', 'nayakaya'], ['ape', 'sirta', 'dalada', 'samidu', 'pihiten', 'jayen', 'jayama', 'wewa'], ['subaasiri'], ['jaya', 'wewa', 'anagatha', 'janadhipathi', 'tumani', 'obata'], ['lassani', 'sir'], ['allha', 'dewiyange', 'pitai', 'namal', 'sir'], ['subapathum', 'welawata', 'sudusude', 'hariyatama', 'karana', 'tharunnaye', 'abimanaya'], ['lassanai', 'bs'], ['idiriyatama', 'yanna'], ['oba', 'thuma', 'heeywata', 'ratata', 'adareihadamu', 'amathi', 'thumani', 'diunu', 'ratak', 'karamu'], ['obatumanla', 'meh', 'ratata', 'wasanawak'], ['hodama', 'manussayek'], ['ratata', 'wasanawak', 'rata', 'hadamu'], ['youtube', 'live', 'ekak', 'dunna', 'nam', 'hodai'], ['ojanaawa', 'itha', 'wegen', 'kireema', 'pilibandawa', 'maage', 'sthuuthiya', 'eya', 'niyamai'], ['garu', 'nayakathumani', 'obathumatatt', 'dayabara', 'methitumryatatt', 'budusaranin', 'seyaludevipehetin', 'ekman', 'suwaya', 'lebewai', 'pathanawa'], ['obatuma', 'suwapath', 'wewa'], ['obathumata', 'godaak', 'pin', 'janathawa', 'gana', 'hitana', 'nayakayek'], ['dara', 'niya', 'nayaka', 'tumani', 'oba', 'dapalatha', 'samma', 'sam', 'budu', 'guna', 'balayan', 'ikman', 'suwaya', 'labawa', 'labawa', 'labawa'], ['kuriru', 'yuddhaya', 'katavat', 'karaganna', 'bari', 'ya', 'bari', 'ya', 'yana', 'adahasin', 'tis', 'vasara', 'pavatun', 'itihasaya', 'obata', 'matakada', 'ema', 'dukkhita', 'itihasaya', 'nati', 'kale', 'mahinda', 'rajapaksa', 'noveda'], ['atdakim', 'bahula', 'nayakayek'], ['athivishitai', 'agamathitumani', 'hodama', 'wadak'], ['rata', 'hari', 'magata', 'wada', 'samaga', 'ape', 'janapati', 'jayaveva'], ['rate', 'anagatha', 'sawbhagyaye', 'dekme', 'idiri', 'gamane', 'sangwardanaya', 'udesawu', 'colombo', 'port', 'city', 'wyapruthiya', 'akandawama', 'athi', 'sarthakawa', 'karagena', 'yemata', 'api', 'obathumanlata', 'dahirrya', 'shakthiya', 'pathanawa', 'athigharu', 'agramathya', 'thumani', 'gharu', 'amathya', 'waruni'], ['e', 'tiranaya', 'nam', 'uparimayen', 'agaya', 'karanwa'], ['garu', 'agamathi', 'thumage', 'kriyakari', 'deshapalalana', 'jeevitayama', 'janatha', 'sevayata', 'kapa', 'kara', 'hamarae', 'dalada', 'samidu', 'pihitae'], ['hadawathe', 'radi', 'sundara', 'nayakayek'], ['eda', 'dun', 'obe', 'editara', 'nayakathwaya', 'oneh', 'mohotak', 'meh'], ['abeetha', 'hela', 'raju', 'obai'], ['adatath', 'a', 'wishwasaya', 'tiyanwa', 'apita', 'obatuma', 'gana'], ['niwaradi', 'editara', 'nayakathwayata', 'hamada', 'garu', 'karami'], ['niwahal', 'nidahas', 'ratak', 'himikara', 'dun', 'obathumata', 'ape', 'hadawathe', 'nayakaya'], ['nan']]\n"
          ],
          "name": "stdout"
        }
      ]
    },
    {
      "cell_type": "code",
      "metadata": {
        "colab": {
          "base_uri": "https://localhost:8080/"
        },
        "id": "F-eEXQ9vx6ky",
        "outputId": "e4b86e0d-4dd7-4082-9523-62c630efe114"
      },
      "source": [
        "tokenized_neg = tokenize(cleaned_negative_comments)\n",
        "print(tokenized_neg)"
      ],
      "execution_count": 513,
      "outputs": [
        {
          "output_type": "stream",
          "text": [
            "[['ane', 'manda', 'meyda', 'president', 'paw', 'ara', 'miharak', '69'], ['akath', 'iwarai', 'ahenam'], ['upades', 'dunne', 'maala', 'hora', 'wenna', 'one'], ['katin', 'withrai'], ['ma', 'kage', 'shapayakd', 'pissek', 'raja', 'unath', 'ekai', 'rajek', 'pissek', 'unath', 'ekaii'], ['dilith', 'kiyana', 'buruwata', 'kiyapan', 'advice', 'karanna', 'kiyala'], ['hamadaama', 'assaya', 'giyata', 'passe', 'istale', 'wahanawa'], ['loketama', 'nayawela', 'ape', 'appachchila', 'set', 'eka', 'maruwen', 'maruwata', 'karapu', 'sanwardanaya', 'ada', 'api', 'bukthi', 'widinawa'], ['duminda', 'eliyata', 'dala', 'anduwa', 'gedara', 'yanna', 'hadanne'], ['horu', 'tika', 'watawela'], ['lokema', 'higanama', 'rata', 'dan', 'mekamun', 'maru', 'desapalakayo'], ['mun', 'ekath', 'piliganna', 'gihin', 'harak'], ['den', 'chanda', 'tika', 'wetei', 'siti', 'siti', 'gala'], ['jeppani', 'oka', 'wasangatayak'], ['minissu', 'vidihata', 'hithapalla', 'gothrikayo', 'novie'], ['den', 'meeka', 'hingaa', 'kana', 'ratak', 'lejjai'], ['thawath', 'meke', 'un', 'untama', 'aawadanwa'], ['mewata', 'ridenne', 'umbalage', 'wahalkama', 'nisa'], ['pissu', 'gota', 'oka', 'ombata', 'keranna', 'danne', 'neha'], ['baiyonta', 'maara', 'wade', 'une', 'kuliyata', 'liyana', 'wahallu'], ['chande', 'denna', 'epa', 'panpori', 'gahan', 'nethuwa'], ['mekath', 'huda', 'horek', 'thama'], ['gong', 'rajayata', 'owaa', 'therenne', 'nehe'], ['rata', 'kelawapalla'], ['wahalune', 'danwath', 'therum', 'ganilla'], ['balu', 'jeppo'], ['gon', 'labba'], ['balanna', 'barinam', 'nida', 'ganilla'], ['pissu', 'nande', 'oka', 'dipan', 'anurata'], ['mada', 'balakaya'], ['thopita', 'hena', 'gahanawa'], ['mea', 'karanee', 'ape', 'rata', 'vinasayak'], ['meke', 'inna', 'harakta', 'kiyala', 'den', 'eka', 'amaru', 'deyak'], ['hithapalla', 'wahallu', 'wenne', 'nathuwa'], ['wahallu', 'ennakal', 'me', 'rata', 'goda', 'danna', 'baha', 'baiyani'], ['rata', 'kala', 'wikunala'], ['pacha', 'kelinne', 'nethuwa', 'hitapalla'], ['pissan', 'kotuwen', 'panala', 'aapu', 'kena', 'neda'], ['me', 'rata', 'winasa', 'krnn', 'balya', 'dunn'], ['rate', 'minissu', 'corona', 'walin', 'merenawa'], ['minissunta', 'marana', 'baya', 'dila', 'mun', 'ithuru', 'awurdu', '3', 'nam', 'mehem', 'thami', 'krnne'], ['gon', 'bayya'], ['me', 'tharam', 'viyasanayak', 'wela', 'thiyeddi', 'janathawa'], ['elo', 'deyak', 'danne', 'neha', 'ratata', 'hena', 'gehuwath', 'unta', 'wedakuth', 'neha'], ['kaawa', 'rata', 'aprde', 'me', 'rata'], ['dan', 'inne', 'punnkku', 'baiyyo', 'tikk', 'withryi'], ['okoma', 'unata', 'passe', 'mee', 'wage', 'kiyanawda', 'kiyala', 'ugath', 'balaya', 'thiyana', 'minissu', 'hithala', 'balanna', 'wevii'], ['225ta', 'hena', 'ghana', 'banga', 'wela', 'ynna', 'one', 'kalakanni', 'politikko'], ['ashwaya', 'panala', 'giyaama', 'pampori', 'gahala', 'isthaale', 'wahana', 'kramaya', 'wenas', 'karanna', 'bari', 'da', 'rate'], ['chinata', 'p', 'dipan', 'kabaraya'], ['awasaneta', 'duk', 'vidina', 'ape', 'maubima', 'pita', 'ratiyanta', 'vikunanawa']]\n"
          ],
          "name": "stdout"
        }
      ]
    },
    {
      "cell_type": "markdown",
      "metadata": {
        "id": "oHIHAJY-_17d"
      },
      "source": [
        "Creating unigram and bigram"
      ]
    },
    {
      "cell_type": "code",
      "metadata": {
        "id": "113YoRvXyKlp"
      },
      "source": [
        "def create_unigram(comments):\n",
        "  unigram = []\n",
        "  for i in comments:\n",
        "    unigram.append(list(ngrams(i,1)))\n",
        "  return unigram\n"
      ],
      "execution_count": 514,
      "outputs": []
    },
    {
      "cell_type": "code",
      "metadata": {
        "id": "-LV_GlFbAYvV"
      },
      "source": [
        "def create_bigram(comments):\n",
        "  bigram = []\n",
        "  for i in comments:\n",
        "    bigram.append(list(ngrams(i,2)))\n",
        "  return bigram"
      ],
      "execution_count": 515,
      "outputs": []
    },
    {
      "cell_type": "code",
      "metadata": {
        "colab": {
          "base_uri": "https://localhost:8080/"
        },
        "id": "ZmpDxt_SAnAK",
        "outputId": "5c3ae3dd-0937-401b-8637-17925d490e7b"
      },
      "source": [
        "pos_unigram = create_unigram(tokenized_pos)\n",
        "neg_unigram = create_unigram(tokenized_neg)\n",
        "pos_bigram = create_bigram(tokenized_pos)\n",
        "neg_bigram = create_bigram(tokenized_neg)\n",
        "\n",
        "neg_bigram[:5]"
      ],
      "execution_count": 516,
      "outputs": [
        {
          "output_type": "execute_result",
          "data": {
            "text/plain": [
              "[[('ane', 'manda'),\n",
              "  ('manda', 'meyda'),\n",
              "  ('meyda', 'president'),\n",
              "  ('president', 'paw'),\n",
              "  ('paw', 'ara'),\n",
              "  ('ara', 'miharak'),\n",
              "  ('miharak', '69')],\n",
              " [('akath', 'iwarai'), ('iwarai', 'ahenam')],\n",
              " [('upades', 'dunne'),\n",
              "  ('dunne', 'maala'),\n",
              "  ('maala', 'hora'),\n",
              "  ('hora', 'wenna'),\n",
              "  ('wenna', 'one')],\n",
              " [('katin', 'withrai')],\n",
              " [('ma', 'kage'),\n",
              "  ('kage', 'shapayakd'),\n",
              "  ('shapayakd', 'pissek'),\n",
              "  ('pissek', 'raja'),\n",
              "  ('raja', 'unath'),\n",
              "  ('unath', 'ekai'),\n",
              "  ('ekai', 'rajek'),\n",
              "  ('rajek', 'pissek'),\n",
              "  ('pissek', 'unath'),\n",
              "  ('unath', 'ekaii')]]"
            ]
          },
          "metadata": {
            "tags": []
          },
          "execution_count": 516
        }
      ]
    },
    {
      "cell_type": "markdown",
      "metadata": {
        "id": "54Lv9-riEED0"
      },
      "source": [
        "Calculating the frequencies"
      ]
    },
    {
      "cell_type": "code",
      "metadata": {
        "id": "bmWm7A2kA0b5"
      },
      "source": [
        "from nltk import FreqDist\n",
        "\n",
        "def calculate_frequency(comments):\n",
        "    words = []\n",
        "    for i in comments:\n",
        "        words += i\n",
        "    freq_list = FreqDist(words)\n",
        "    return freq_list"
      ],
      "execution_count": 517,
      "outputs": []
    },
    {
      "cell_type": "markdown",
      "metadata": {
        "id": "LeM-V2DuB7hZ"
      },
      "source": [
        "Calculating the probabilties"
      ]
    },
    {
      "cell_type": "code",
      "metadata": {
        "id": "bxPjHtcDEjS0"
      },
      "source": [
        "def probability_calculation(test_comment, unigram, bigram):\n",
        " \n",
        "  unigram_freq = calculate_frequency(unigram)\n",
        "  bigram_freq  = calculate_frequency(bigram)\n",
        "  unigram_length = len(unigram)\n",
        "  \n",
        "  probability = 1.0\n",
        "  for i in range(len(test_comment)):\n",
        "    if test_comment[i] in bigram_freq:\n",
        "      bigram_count = bigram_freq[test_comment[i]]\n",
        "    else:\n",
        "      bigram_count = 0\n",
        "\n",
        "    if test_comment[i][0] in unigram_freq:\n",
        "      unigram_count = unigram_freq[test_comment[i][0]]\n",
        "    else:\n",
        "      unigram_count = 0\n",
        "\n",
        "    probability = probability * ((bigram_count + 1) / (unigram_count + unigram_length))\n",
        "\n",
        "  return probability\n"
      ],
      "execution_count": 518,
      "outputs": []
    },
    {
      "cell_type": "code",
      "metadata": {
        "id": "n16hFKTzNQdD"
      },
      "source": [
        "def perplexity_calculation(probability, n):\n",
        "    return pow(probability, (-1 / n))"
      ],
      "execution_count": 519,
      "outputs": []
    },
    {
      "cell_type": "code",
      "metadata": {
        "colab": {
          "base_uri": "https://localhost:8080/"
        },
        "id": "ogYwViF4QHr3",
        "outputId": "8f6774d7-0f93-4cb0-e027-25efef0751c0"
      },
      "source": [
        "test_comment = input(\"Please enter a comment: \")\n",
        "\n",
        "test_comment = clean_comments(test_comment)\n",
        "number_of_words = len(test_comment)\n",
        "test_comment = re.split('\\W+',test_comment)\n",
        "test_comment = list(nltk.bigrams(test_comment))\n",
        "\n",
        "\n",
        "\n",
        "positive_probability = probability_calculation(test_comment, pos_unigram, pos_bigram)\n",
        "\n",
        "negative_probability= probability_calculation(test_comment, neg_unigram, neg_bigram)\n",
        "\n",
        "\n",
        "if(positive_probability > negative_probability):  #comparing the positive and negative probabilities\n",
        "    perplexity = perplexity_calculation(positive_probability, number_of_words)\n",
        "    print(\" \")\n",
        "    print(\"Positive Comment\")\n",
        "    print(\"Perplexity of comment  = \" + str(perplexity))\n",
        "else:\n",
        "    perplexity = perplexity_calculation(negative_probability, number_of_words)\n",
        "    print(\" \")\n",
        "    print(\"Negative comment\")\n",
        "    print(\"Perplexity of comment = \" + str(perplexity))\n",
        "    \n",
        "print(\"\")\n",
        "print(\"Positive probability = \" , positive_probability)\n",
        "print(\"Negative probability =\" , negative_probability)"
      ],
      "execution_count": 522,
      "outputs": [
        {
          "output_type": "stream",
          "text": [
            "Please enter a comment: rata winasa kala\n",
            " \n",
            "Negative comment\n",
            "Perplexity of comment = 1.5654236735931897\n",
            "\n",
            "Positive probability =  0.00038446751249519417\n",
            "Negative probability = 0.0007689350249903883\n"
          ],
          "name": "stdout"
        }
      ]
    },
    {
      "cell_type": "code",
      "metadata": {
        "id": "IQ0sTSu8R5Wf"
      },
      "source": [
        ""
      ],
      "execution_count": 520,
      "outputs": []
    }
  ]
}